{
 "cells": [
  {
   "cell_type": "markdown",
   "metadata": {},
   "source": [
    "# Playing around on a Spotify API"
   ]
  },
  {
   "cell_type": "code",
   "execution_count": 1,
   "metadata": {
    "collapsed": false
   },
   "outputs": [
    {
     "name": "stderr",
     "output_type": "stream",
     "text": [
      "Using Theano backend.\n",
      "WARNING (theano.configdefaults): g++ not detected ! Theano will be unable to execute optimized C-implementations (for both CPU and GPU) and will default to Python implementations. Performance will be severely degraded. To remove this warning, set Theano flags cxx to an empty string.\n"
     ]
    },
    {
     "name": "stdout",
     "output_type": "stream",
     "text": [
      "3.5.2 |Anaconda 4.1.1 (64-bit)| (default, Jul  5 2016, 11:41:13) [MSC v.1900 64 bit (AMD64)]\n"
     ]
    }
   ],
   "source": [
    "import pandas as pd\n",
    "import numpy as np\n",
    "import csv\n",
    "import os\n",
    "import csgo as cs\n",
    "from itertools import groupby\n",
    "import sys\n",
    "import spotipy\n",
    "import keras\n",
    "from keras.models import Sequential\n",
    "from keras.layers import Dense, Activation\n",
    "import pprint\n",
    "print(sys.version)"
   ]
  },
  {
   "cell_type": "code",
   "execution_count": 2,
   "metadata": {
    "collapsed": true
   },
   "outputs": [],
   "source": [
    "spotify=spotipy.Spotify()\n",
    "\n"
   ]
  },
  {
   "cell_type": "code",
   "execution_count": 3,
   "metadata": {
    "collapsed": false
   },
   "outputs": [
    {
     "name": "stdout",
     "output_type": "stream",
     "text": [
      "Beautiful Lies\n",
      "Beautiful Lies\n",
      "Beautiful Lies (Deluxe)\n",
      "Beautiful Lies (Deluxe)\n",
      "Fire Within\n",
      "Fire Within\n",
      "Live In London\n",
      "Birdy\n",
      "Birdy\n",
      "Birdy\n",
      "Birdy (Spotify Exclusive)\n",
      "Birdy (Deluxe Version)\n",
      "Fire Within (Deluxe)\n",
      "Fire Within (Deluxe)\n",
      "Fire Within (Deluxe)\n"
     ]
    }
   ],
   "source": [
    "birdy_uri = 'spotify:artist:2WX2uTcsvV5OnS0inACecP' #try and make a function\n",
    "#that returns this 'uri' given artist name.\n",
    "\n",
    "results = spotify.artist_albums(birdy_uri, album_type='album')\n",
    "albums = results['items']\n",
    "while results['next']:\n",
    "    results = spotify.next(results)\n",
    "    albums.extend(results['items'])\n",
    "\n",
    "for album in albums:\n",
    "    print(album['name'])"
   ]
  },
  {
   "cell_type": "code",
   "execution_count": 4,
   "metadata": {
    "collapsed": false
   },
   "outputs": [
    {
     "data": {
      "text/plain": [
       "'spotify:artist:6Ox0TEvz2VGDhEPvODDBBv'"
      ]
     },
     "execution_count": 4,
     "metadata": {},
     "output_type": "execute_result"
    }
   ],
   "source": [
    "def get_uri(artist):\n",
    "    results = spotify.search(q = \"artist:\" + artist, type = \"artist\")\n",
    "    artist_id = results['artists']['items'][0]['uri']\n",
    "   \n",
    "    return(artist_id)\n",
    "\n",
    "get_uri(\"Beyonce\")\n",
    "#A function that returns artist 'uri' as a string. \n",
    "#By most matching (first result)"
   ]
  },
  {
   "cell_type": "code",
   "execution_count": 14,
   "metadata": {
    "collapsed": false
   },
   "outputs": [
    {
     "name": "stdout",
     "output_type": "stream",
     "text": [
      "   David Metzner\n",
      "   2\n",
      "   26\n",
      "   Happily Manitoba\n",
      "   0\n",
      "   0\n",
      "   Collin Michael Creach\n",
      "   0\n",
      "   0\n",
      "   Sy Defects, Pigeon Inc.\n",
      "   0\n",
      "   9\n",
      "   DJ Steakhouse\n",
      "   0\n",
      "   4\n",
      "   Alexambr\n",
      "   0\n",
      "   3\n",
      "   Collin Creach\n",
      "   6\n",
      "   82\n",
      "   The Demons Of Satanica\n",
      "   0\n",
      "   46\n",
      "   Mary Donnelly Haskell\n",
      "   1\n",
      "   7\n",
      "   Dj Kikkotosh\n",
      "   0\n",
      "   287\n",
      "   Read Between The Lies\n",
      "   0\n",
      "   0\n",
      "   Chœur et Orchestre de l'Armée Rouge\n",
      "   1\n",
      "   232\n",
      "   Geng Lianfeng; Zhang Zhenfu\n",
      "   2\n",
      "   22\n",
      "   Satan's Helpers\n",
      "   0\n",
      "   17\n",
      "   Captor Of Sin\n",
      "   0\n",
      "   1\n",
      "   Dj Neixom\n",
      "   5\n",
      "   25\n",
      "   David Sichinawa\n",
      "   0\n",
      "   16\n",
      "   Dedinsyde\n",
      "   0\n",
      "   0\n",
      "   Seasons In The Abyss\n",
      "   0\n",
      "   7\n",
      "   Koldborn\n",
      "   0\n",
      "   39\n"
     ]
    }
   ],
   "source": [
    "''' lets try get related song '''\n",
    "\n",
    "artst = 'Cannibal Corpse'\n",
    "\n",
    "related = spotify.artist_related_artists(get_uri(artst))\n",
    "\n",
    "for artist in related['artists']:\n",
    "    print('  ', artist['name'])\n",
    "    print('  ', artist['popularity'])\n",
    "    print('  ', artist['followers']['total'])\n"
   ]
  },
  {
   "cell_type": "code",
   "execution_count": 21,
   "metadata": {
    "collapsed": false
   },
   "outputs": [
    {
     "name": "stdout",
     "output_type": "stream",
     "text": [
      "track    : On Again Off Again\n",
      "audio    : https://p.scdn.co/mp3-preview/1094b87bd85a01dcfa784d22c522a5d621ae0057?cid=null\n",
      "cover art: https://i.scdn.co/image/21306dfac0d34843c03f0e6d50f7fd1b769ad0e0\n",
      "track    : From the Morning\n",
      "audio    : https://p.scdn.co/mp3-preview/7cd7d17d9dac3463b0034663cd5aed98ea8f9235?cid=null\n",
      "cover art: https://i.scdn.co/image/886952363dbedd6b943f759814a6324672d25a39\n",
      "track    : Nick Drake\n",
      "audio    : https://p.scdn.co/mp3-preview/740c55db6a009947fb38e39b4d1c3b2be49ad50c?cid=null\n",
      "cover art: https://i.scdn.co/image/886952363dbedd6b943f759814a6324672d25a39\n",
      "track    : Michigan\n",
      "audio    : https://p.scdn.co/mp3-preview/d05972088dc4e1c1c53eeef7c60199a8e69fb15b?cid=null\n",
      "cover art: https://i.scdn.co/image/886952363dbedd6b943f759814a6324672d25a39\n",
      "track    : Northern Skies\n",
      "audio    : https://p.scdn.co/mp3-preview/d0713147b39043c381655c1e44ddbbdfe385afd4?cid=null\n",
      "cover art: https://i.scdn.co/image/21306dfac0d34843c03f0e6d50f7fd1b769ad0e0\n",
      "track    : Psalm 69\n",
      "audio    : https://p.scdn.co/mp3-preview/725331429ecbb8ac28c27d6d97609554dfc5c92f?cid=null\n",
      "cover art: https://i.scdn.co/image/886952363dbedd6b943f759814a6324672d25a39\n",
      "track    : An Old Widow's Prayer\n",
      "audio    : https://p.scdn.co/mp3-preview/a45872c5c9266f0aa896b71c981f218d64407c48?cid=null\n",
      "cover art: https://i.scdn.co/image/21306dfac0d34843c03f0e6d50f7fd1b769ad0e0\n",
      "track    : Goodnight Moon\n",
      "audio    : https://p.scdn.co/mp3-preview/3113c98d430897cb7f86c3ed46d18ffcd597d1af?cid=null\n",
      "cover art: https://i.scdn.co/image/886952363dbedd6b943f759814a6324672d25a39\n",
      "track    : Invention\n",
      "audio    : https://p.scdn.co/mp3-preview/c309bbf0194117afad74fcb915cecc291f32d285?cid=null\n",
      "cover art: https://i.scdn.co/image/886952363dbedd6b943f759814a6324672d25a39\n",
      "track    : Make Believe\n",
      "audio    : https://p.scdn.co/mp3-preview/e8937e8224bbe6d39e7e004d4bca1b5b83b0be3c?cid=null\n",
      "cover art: https://i.scdn.co/image/886952363dbedd6b943f759814a6324672d25a39\n"
     ]
    }
   ],
   "source": [
    "''' lets try get related song '''\n",
    "\n",
    "artst = 'Drake'\n",
    "\n",
    "results = spotify.artist_top_tracks(get_uri(artst))\n",
    "for track in results['tracks'][:10]:\n",
    "    print('track    : ' + track['name'])\n",
    "    print('audio    : ' + track['preview_url'])\n",
    "    print('cover art: ' + track['album']['images'][0]['url'])"
   ]
  },
  {
   "cell_type": "code",
   "execution_count": null,
   "metadata": {
    "collapsed": true
   },
   "outputs": [],
   "source": []
  }
 ],
 "metadata": {
  "anaconda-cloud": {},
  "kernelspec": {
   "display_name": "Python [Root]",
   "language": "python",
   "name": "Python [Root]"
  },
  "language_info": {
   "codemirror_mode": {
    "name": "ipython",
    "version": 3
   },
   "file_extension": ".py",
   "mimetype": "text/x-python",
   "name": "python",
   "nbconvert_exporter": "python",
   "pygments_lexer": "ipython3",
   "version": "3.5.2"
  }
 },
 "nbformat": 4,
 "nbformat_minor": 0
}
