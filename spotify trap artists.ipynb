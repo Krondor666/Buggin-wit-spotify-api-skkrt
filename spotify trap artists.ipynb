{
 "cells": [
  {
   "cell_type": "markdown",
   "metadata": {},
   "source": [
    "# Playing around with the Spotify API"
   ]
  },
  {
   "cell_type": "code",
   "execution_count": 34,
   "metadata": {
    "collapsed": false
   },
   "outputs": [],
   "source": [
    "import pandas as pd\n",
    "import numpy as np\n",
    "import os\n",
    "import sys\n",
    "import spotipy\n",
    "import keras\n",
    "from keras.models import Sequential\n",
    "from keras.layers import Dense, Activation\n"
   ]
  },
  {
   "cell_type": "code",
   "execution_count": 2,
   "metadata": {
    "collapsed": true
   },
   "outputs": [],
   "source": [
    "'''\n",
    "define the API connection - usually log in from here as well...\n",
    "'''\n",
    "\n",
    "spotify=spotipy.Spotify()\n"
   ]
  },
  {
   "cell_type": "code",
   "execution_count": 3,
   "metadata": {
    "collapsed": false
   },
   "outputs": [
    {
     "name": "stdout",
     "output_type": "stream",
     "text": [
      "Beautiful Lies\n",
      "Beautiful Lies\n",
      "Beautiful Lies (Deluxe)\n",
      "Beautiful Lies (Deluxe)\n",
      "Fire Within\n",
      "Fire Within\n",
      "Live In London\n",
      "Birdy\n",
      "Birdy\n",
      "Birdy\n",
      "Birdy (Spotify Exclusive)\n",
      "Birdy (Deluxe Version)\n",
      "Fire Within (Deluxe)\n",
      "Fire Within (Deluxe)\n",
      "Fire Within (Deluxe)\n"
     ]
    }
   ],
   "source": [
    "'''example with finding a users albums... '''\n",
    "birdy_uri = 'spotify:artist:2WX2uTcsvV5OnS0inACecP' #try and make a function\n",
    "#that returns this 'uri' given artist name.\n",
    "\n",
    "results = spotify.artist_albums(birdy_uri, album_type='album')\n",
    "albums = results['items']\n",
    "while results['next']:\n",
    "    results = spotify.next(results)\n",
    "    albums.extend(results['items'])\n",
    "\n",
    "for album in albums:\n",
    "    print(album['name'])"
   ]
  },
  {
   "cell_type": "code",
   "execution_count": 28,
   "metadata": {
    "collapsed": false
   },
   "outputs": [
    {
     "data": {
      "text/plain": [
       "'spotify:artist:6vWDO969PvNqNYHIOW5v0m'"
      ]
     },
     "execution_count": 28,
     "metadata": {},
     "output_type": "execute_result"
    }
   ],
   "source": [
    "''' \n",
    "luke i changed ur function down below the index 1 was wrong so i put it as  0 and it giving\n",
    "way better results, chur...\n",
    "'''\n",
    "def get_uri(artist):\n",
    "    results = spotify.search(q = \"artist:\" + artist, type = \"artist\")\n",
    "    artist_id = results['artists']['items'][0]['uri'] # changed from '1' to '0' ??\n",
    "   \n",
    "    return(artist_id)\n",
    "\n",
    "get_uri(\"Beyonce\")\n",
    "#A function that returns artist 'uri' as a string. \n",
    "#By most matching (first result)"
   ]
  },
  {
   "cell_type": "code",
   "execution_count": 33,
   "metadata": {
    "collapsed": false
   },
   "outputs": [
    {
     "name": "stdout",
     "output_type": "stream",
     "text": [
      "   Rich Homie Quan\n",
      "   76\n",
      "   555307\n",
      "   2 Chainz\n",
      "   87\n",
      "   949694\n",
      "   Waka Flocka Flame\n",
      "   73\n",
      "   422060\n",
      "   Young Thug\n",
      "   86\n",
      "   795434\n",
      "   Yo Gotti\n",
      "   80\n",
      "   415369\n",
      "   Migos\n",
      "   85\n",
      "   614731\n",
      "   French Montana\n",
      "   81\n",
      "   434759\n",
      "   Travis Scott\n",
      "   86\n",
      "   646535\n",
      "   Gucci Mane\n",
      "   89\n",
      "   536596\n",
      "   Meek Mill\n",
      "   81\n",
      "   747859\n",
      "   K CAMP\n",
      "   70\n",
      "   301339\n",
      "   Young Dolph\n",
      "   71\n",
      "   109900\n",
      "   Chief Keef\n",
      "   72\n",
      "   436949\n",
      "   A$AP Ferg\n",
      "   76\n",
      "   395207\n",
      "   Jeezy\n",
      "   77\n",
      "   496811\n",
      "   Juicy J\n",
      "   80\n",
      "   519363\n",
      "   21 Savage\n",
      "   86\n",
      "   437196\n",
      "   Rick Ross\n",
      "   82\n",
      "   886406\n",
      "   DJ Khaled\n",
      "   79\n",
      "   720479\n",
      "   DJ Drama\n",
      "   67\n",
      "   149708\n"
     ]
    }
   ],
   "source": [
    "''' lets try get related song '''\n",
    "\n",
    "artst = 'Young Thug'\n",
    "\n",
    "related = spotify.artist_related_artists(get_uri(artst))\n",
    "\n",
    "for artist in related['artists']:\n",
    "    print('  ', artist['name'])\n",
    "    print('  ', artist['popularity'])\n",
    "    print('  ', artist['followers']['total'])\n",
    "\n"
   ]
  },
  {
   "cell_type": "code",
   "execution_count": null,
   "metadata": {
    "collapsed": true
   },
   "outputs": [],
   "source": []
  }
 ],
 "metadata": {
  "anaconda-cloud": {},
  "kernelspec": {
   "display_name": "Python [Root]",
   "language": "python",
   "name": "Python [Root]"
  },
  "language_info": {
   "codemirror_mode": {
    "name": "ipython",
    "version": 3
   },
   "file_extension": ".py",
   "mimetype": "text/x-python",
   "name": "python",
   "nbconvert_exporter": "python",
   "pygments_lexer": "ipython3",
   "version": "3.5.2"
  }
 },
 "nbformat": 4,
 "nbformat_minor": 0
}
